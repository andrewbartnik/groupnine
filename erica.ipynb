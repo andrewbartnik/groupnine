{
 "cells": [
  {
   "cell_type": "code",
   "execution_count": null,
   "metadata": {},
   "outputs": [],
   "source": []
  },
  {
   "cell_type": "markdown",
   "metadata": {},
   "source": []
  },
  {
   "cell_type": "markdown",
   "metadata": {},
   "source": [
    "Alternative installation for students:\n",
    "- Open Anaconda\n",
    "- go to environments, select EDS217\n",
    "- pulldown from 'installed' to 'not installed'\n",
    "- select \"scikit-learn\" and apply!\n",
    "\n",
    "![machinelearning](images/machineLearning.png)\n"
   ]
  },
  {
   "cell_type": "markdown",
   "metadata": {},
   "source": [
    "\n",
    "\n",
    "\"Scikit-learn is a popular and robust machine learning library that has a vast assortment of algorithms, as well as tools for ML visualizations, preprocessing, model fitting, selection, and evaluation.  \n",
    "\n",
    "Building on NumPy, SciPy, and matplotlib, Scikit-learn features a number of efficient algorithms for classification, regression, and clustering. These include support vector machines, rain forests, gradient boosting, k-means, and DBSCAN. \"\n",
    "-https://www.nvidia.com/en-us/glossary/data-science/scikit-learn/\n",
    "\n",
    "![intro](images/training.png)\n",
    "\n",
    "Provides tools to walk through each step of machine learning!\n",
    "\n",
    "- <i>Preprocessing</i>: To extract and normalize data.\n",
    "- <i>Classification</i>: To identify which category an object belongs.\n",
    "- <i>Regression</i>: The creation of a model to understand relationship between input and output data.\n",
    "- <i>Clustering</i>: Data is auto-grouped with similar characteristics into sets. (sklearn.cluster module has a wide variety of options for data clustering)\n",
    "- <i>Dimensionality reduction</i>: The number of random outlier variables are reduced for analysis.\n",
    "- <i>Model selection</i>: A variety of models that compare, validate, and select optimal parameters.\n",
    "- <i>Pipeline</i>: Easily build a model by passing data through transformers (extract the features) then an estimator (trains/firts data to build model).\n",
    "- <i>Visualizations</i>: Setup for quick plotting and visual adjustments."
   ]
  }
 ],
 "metadata": {
  "kernelspec": {
   "display_name": "Python 3.10.0 64-bit",
   "language": "python",
   "name": "python3"
  },
  "language_info": {
   "name": "python",
   "version": "3.10.0"
  },
  "orig_nbformat": 4,
  "vscode": {
   "interpreter": {
    "hash": "12ff1cd0c6e816763c5f50e1c40bb7281e80a423385061274306e40726aaf3fb"
   }
  }
 },
 "nbformat": 4,
 "nbformat_minor": 2
}
