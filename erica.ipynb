{
 "cells": [
  {
   "cell_type": "code",
   "execution_count": null,
   "metadata": {},
   "outputs": [],
   "source": []
  },
  {
   "cell_type": "markdown",
   "metadata": {},
   "source": []
  },
  {
   "cell_type": "markdown",
   "metadata": {},
   "source": [
    "Alternative installation for students:\n",
    "- Open Anaconda\n",
    "- go to environments, select EDS217\n",
    "- pulldown from 'installed' to 'not installed'\n",
    "- select \"scikit-learn\" and apply!\n",
    "\n",
    "---\n",
    "\n",
    "![machinelearning](images/machineLearning.png)\n"
   ]
  },
  {
   "cell_type": "markdown",
   "metadata": {},
   "source": [
    "\n",
    "\n",
    "\"Scikit-learn is a popular and robust machine learning library that has a vast assortment of algorithms, as well as tools for <b>ML visualizations, preprocessing, model fitting, selection, and evaluation</b>. Building on <b>NumPy</b>, <b>SciPy</b>, and <b>matplotlib</b>, Scikit-learn features a number of efficient algorithms for classification, regression, and clustering. These include support vector machines, rain forests, gradient boosting, k-means, and DBSCAN. \" - https://www.nvidia.com/en-us/glossary/data-science/scikit-learn/\n",
    "\n",
    "![intro](images/training.png)\n",
    "\n",
    "Provides tools to walk through each step of machine learning!\n",
    "\n",
    "- <i>Preprocessing</i>:  To extract and normalize data.\n",
    "- <i>Classification</i>:  To identify which category an object belongs.\n",
    "- <i>Regression</i>:  The creation of a model to understand relationship between input and output data.\n",
    "- <i>Clustering</i>:  Data is auto-grouped with similar characteristics into sets. (sklearn.cluster module has a wide variety of options for data clustering)\n",
    "- <i>Dimensionality reduction</i>:  The number of random outlier variables are reduced for analysis.\n",
    "- <i>Model selection</i>:  A variety of models that compare, validate, and select optimal parameters.\n",
    "- <i>Pipeline</i>:  Easily build a model by passing data through transformers (extract the features) then an estimator (trains/firts data to build model).\n",
    "- <i>Visualizations</i>:  Setup for quick plotting and visual adjustments."
   ]
  },
  {
   "cell_type": "code",
   "execution_count": null,
   "metadata": {},
   "outputs": [],
   "source": []
  },
  {
   "cell_type": "code",
   "execution_count": 8,
   "metadata": {},
   "outputs": [
    {
     "ename": "SyntaxError",
     "evalue": "invalid syntax (2274551900.py, line 3)",
     "output_type": "error",
     "traceback": [
      "\u001b[1;36m  Cell \u001b[1;32mIn [8], line 3\u001b[1;36m\u001b[0m\n\u001b[1;33m    data.target[[10, 80, 140]]array([0, 1, 2])\u001b[0m\n\u001b[1;37m                              ^\u001b[0m\n\u001b[1;31mSyntaxError\u001b[0m\u001b[1;31m:\u001b[0m invalid syntax\n"
     ]
    }
   ],
   "source": []
  }
 ],
 "metadata": {
  "kernelspec": {
   "display_name": "Python 3.10.4 ('eds-217')",
   "language": "python",
   "name": "python3"
  },
  "language_info": {
   "codemirror_mode": {
    "name": "ipython",
    "version": 3
   },
   "file_extension": ".py",
   "mimetype": "text/x-python",
   "name": "python",
   "nbconvert_exporter": "python",
   "pygments_lexer": "ipython3",
   "version": "3.10.4"
  },
  "orig_nbformat": 4,
  "vscode": {
   "interpreter": {
    "hash": "46678b732af22065499557143f448d98ea60a4f81e05bd6adc619b87abb4763c"
   }
  }
 },
 "nbformat": 4,
 "nbformat_minor": 2
}
